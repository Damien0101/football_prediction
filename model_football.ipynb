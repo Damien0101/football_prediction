{
 "cells": [
  {
   "cell_type": "code",
   "execution_count": 34,
   "metadata": {},
   "outputs": [],
   "source": [
    "# \n",
    "import pandas as pd\n",
    "import numpy as np\n",
    "from sklearn.model_selection import cross_val_score, train_test_split\n",
    "from sklearn.cluster import KMeans\n",
    "from sklearn.ensemble import RandomForestClassifier\n",
    "from xgboost import XGBRegressor, XGBClassifier\n",
    "from sklearn.metrics import (\n",
    "    mean_squared_error,\n",
    "    mean_absolute_error,\n",
    "    r2_score,\n",
    "    classification_report,\n",
    "    confusion_matrix,\n",
    "    accuracy_score\n",
    "  \n",
    ")\n",
    "from sklearn.preprocessing import StandardScaler\n",
    "from sklearn.compose import ColumnTransformer\n",
    "from sklearn.preprocessing import OneHotEncoder\n",
    "import matplotlib.pyplot as plt\n"
   ]
  },
  {
   "cell_type": "code",
   "execution_count": 35,
   "metadata": {},
   "outputs": [],
   "source": [
    "# Read the CSV file into a DataFrame\n",
    "df = pd.read_csv('data/dataset.csv')\n",
    "# Specify the columns you want to keep\n",
    "columns_to_keep = ['HomeTeam', 'AwayTeam', 'FTHG', 'FTAG','FTR','B365H','B365D','B365A','BWH','BWD','BWA']\n",
    "df = df[columns_to_keep]"
   ]
  },
  {
   "cell_type": "code",
   "execution_count": 36,
   "metadata": {},
   "outputs": [
    {
     "name": "stdout",
     "output_type": "stream",
     "text": [
      "\n",
      "Count of NaN values in each column:\n",
      "HomeTeam    0\n",
      "AwayTeam    0\n",
      "FTHG        0\n",
      "FTAG        0\n",
      "FTR         0\n",
      "B365H       0\n",
      "B365D       0\n",
      "B365A       0\n",
      "BWH         0\n",
      "BWD         0\n",
      "BWA         0\n",
      "dtype: int64\n",
      "\n",
      "Count of 0 values in each column:\n",
      "HomeTeam      0\n",
      "AwayTeam      0\n",
      "FTHG        328\n",
      "FTAG        412\n",
      "FTR           0\n",
      "B365H         0\n",
      "B365D         0\n",
      "B365A         0\n",
      "BWH           0\n",
      "BWD           0\n",
      "BWA           0\n",
      "dtype: int64\n",
      "\n",
      "Number of duplicate rows: 0\n"
     ]
    }
   ],
   "source": [
    "# Remove rows with any NaN values\n",
    "df = df.dropna()\n",
    "\n",
    "# Count NaN values per column\n",
    "nan_count = df.isna().sum()\n",
    "print(\"\\nCount of NaN values in each column:\")\n",
    "print(nan_count)\n",
    "\n",
    "zero_count = (df == 0).sum()\n",
    "print(\"\\nCount of 0 values in each column:\")\n",
    "print(zero_count)\n",
    "\n",
    "duplicates = df.duplicated(keep=False)  \n",
    "duplicates_count = duplicates.sum()  \n",
    "\n",
    "print(f\"\\nNumber of duplicate rows: {duplicates_count}\")"
   ]
  },
  {
   "cell_type": "code",
   "execution_count": 37,
   "metadata": {},
   "outputs": [
    {
     "name": "stdout",
     "output_type": "stream",
     "text": [
      "Mean Cross-Validation Accuracy: 0.9967\n",
      "\n",
      "Classification Evaluation:\n",
      "[[136   0   0]\n",
      " [  2  67   0]\n",
      " [  0   0  96]]\n",
      "              precision    recall  f1-score   support\n",
      "\n",
      "           0       0.99      1.00      0.99       136\n",
      "           1       1.00      0.97      0.99        69\n",
      "           2       1.00      1.00      1.00        96\n",
      "\n",
      "    accuracy                           0.99       301\n",
      "   macro avg       1.00      0.99      0.99       301\n",
      "weighted avg       0.99      0.99      0.99       301\n",
      "\n"
     ]
    }
   ],
   "source": [
    "# Translate FTR to numerical values: H -> 0, D -> 1, A -> 2\n",
    "ftr_mapping = {'H': 0, 'D': 1, 'A': 2}\n",
    "df['FTR'] = df['FTR'].map(ftr_mapping)\n",
    "\n",
    "# Features and target variable\n",
    "X = df.drop(columns=['FTR'])\n",
    "y = df['FTR']\n",
    "\n",
    "# Encode categorical variables and scale numeric features\n",
    "# Column names for the preprocessing\n",
    "categorical_features = ['HomeTeam', 'AwayTeam']\n",
    "numeric_features = ['FTHG', 'FTAG', 'B365H', 'B365D', 'B365A', 'BWH', 'BWD', 'BWA']\n",
    "\n",
    "# Create a transformer for preprocessing\n",
    "preprocessor = ColumnTransformer(\n",
    "    transformers=[\n",
    "        ('num', StandardScaler(), numeric_features),\n",
    "        ('cat', OneHotEncoder(drop='first'), categorical_features)\n",
    "    ]\n",
    ")\n",
    "\n",
    "# Preprocess the data\n",
    "X_transformed = preprocessor.fit_transform(X)\n",
    "\n",
    "# Split the data into training and testing sets\n",
    "X_train, X_test, y_train, y_test = train_test_split(X_transformed, y, test_size=0.2, random_state=42)\n",
    "\n",
    "# Step 6: Train XGBoost classifier\n",
    "classifier = XGBClassifier(n_estimators=100, learning_rate=0.1, max_depth=3, random_state=42)\n",
    "classifier.fit(X_train, y_train)\n",
    "\n",
    "# Step 7: Make predictions\n",
    "y_pred = classifier.predict(X_test)\n",
    "\n",
    "# Perform 5-fold cross-validation\n",
    "cv_scores = cross_val_score(classifier, X_train, y_train, cv=5)\n",
    "\n",
    "# Step 8: Evaluate the classification model\n",
    "# Evaluate the model\n",
    "print(f\"Mean Cross-Validation Accuracy: {cv_scores.mean():.4f}\")\n",
    "print('\\nClassification Evaluation:')\n",
    "print(confusion_matrix(y_test, y_pred))\n",
    "print(classification_report(y_test, y_pred))\n",
    "\n"
   ]
  },
  {
   "cell_type": "code",
   "execution_count": 38,
   "metadata": {},
   "outputs": [
    {
     "name": "stdout",
     "output_type": "stream",
     "text": [
      "\n",
      "Regression Evaluation:\n",
      "Mean Squared Error: 0.00\n",
      "Mean Absolute Error: 0.02\n",
      "R² Score: 1.00\n"
     ]
    }
   ],
   "source": [
    "X_reg_train, X_reg_test, y_reg_train, y_reg_test = train_test_split(X_transformed, y, test_size=0.2, random_state=42)\n",
    "\n",
    "# Step 6: Train regression model\n",
    "regressor = XGBRegressor(n_estimators=100, learning_rate=0.1, max_depth=3, random_state=42)\n",
    "regressor.fit(X_reg_train, y_reg_train)\n",
    "\n",
    "# Make regression predictions\n",
    "y_reg_pred = regressor.predict(X_reg_test)\n",
    "\n",
    "# Step 7: Evaluate the regression model\n",
    "mse = mean_squared_error(y_reg_test, y_reg_pred)\n",
    "mae = mean_absolute_error(y_reg_test, y_reg_pred)\n",
    "r2 = r2_score(y_reg_test, y_reg_pred)\n",
    "\n",
    "print(f'\\nRegression Evaluation:')\n",
    "print(f'Mean Squared Error: {mse:.2f}')\n",
    "print(f'Mean Absolute Error: {mae:.2f}')\n",
    "print(f'R² Score: {r2:.2f}')"
   ]
  }
 ],
 "metadata": {
  "kernelspec": {
   "display_name": "base",
   "language": "python",
   "name": "python3"
  },
  "language_info": {
   "codemirror_mode": {
    "name": "ipython",
    "version": 3
   },
   "file_extension": ".py",
   "mimetype": "text/x-python",
   "name": "python",
   "nbconvert_exporter": "python",
   "pygments_lexer": "ipython3",
   "version": "3.11.5"
  }
 },
 "nbformat": 4,
 "nbformat_minor": 2
}
